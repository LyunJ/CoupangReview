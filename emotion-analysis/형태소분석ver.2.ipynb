{
 "cells": [
  {
   "cell_type": "code",
   "execution_count": 1,
   "id": "466f0070-5647-4533-828d-fcfdd215635b",
   "metadata": {},
   "outputs": [],
   "source": []
  },
  {
   "cell_type": "code",
   "execution_count": 1,
   "id": "433d883c-4c15-445f-8bc4-c93ab14ad772",
   "metadata": {},
   "outputs": [],
   "source": [
    "# import modules\n",
    "import pandas as pd\n",
    "import numpy as np\n",
    "import matplotlib.pyplot as plt\n",
    "import seaborn as sns\n",
    "import sys, re, json\n",
    "from konlpy.tag import Okt \n",
    "from collections import Counter \n",
    "\n",
    "import warnings\n",
    "warnings.filterwarnings('ignore')\n",
    "\n",
    "# load raw data from csv file\n",
    "rawData=pd.read_csv('홈인테리어.csv')\n",
    "\n",
    "# load stop words\n",
    "stopwords = pd.read_csv(\"https://raw.githubusercontent.com/yoonkt200/FastCampusDataset/master/korean_stopwords.txt\").values.tolist()\n",
    "\n",
    "#load senti words\n",
    "sentiwordsfile = open('SentiWord_info.json', encoding='utf-8-sig', mode='r')\n",
    "sentiwords = json.load(sentiwordsfile)\n",
    "\n",
    "# 명사 형태소 추출 함수\n",
    "okt = Okt()  \n",
    "\n",
    "#define functions\n",
    "def applyRegularExpression(text):\n",
    "    hangul = re.compile('[^ ㄱ-ㅣ 가-힣]')  # 한글 추출 규칙: 띄어 쓰기(1 개)를 포함한 한글\n",
    "    result = hangul.sub('', text)  # 위에 설정한 \"hangul\"규칙을 \"text\"에 적용(.sub)시킴\n",
    "    return result\n",
    "\n",
    "def countWords(_data, range):\n",
    "    if range is None:\n",
    "        range = len(_data)\n",
    "    \n",
    "    data = _data['text'].dropna(axis=0)\n",
    "\n",
    "    corpus = \"\".join(data)\n",
    "    # print('띄어쓰기 없앰', corpus)\n",
    "\n",
    "    # 문장부호 없애기\n",
    "    nouns = okt.nouns(applyRegularExpression(corpus))\n",
    "    #print('문장부호 없앰', nouns)\n",
    "\n",
    "    no_stop_words = [x for x in nouns if x not in stopwords if len(x) > 1]\n",
    "    result = Counter(no_stop_words[0:range])\n",
    "    return result\n",
    "\n",
    "def countWordsByReview(reviews, range):\n",
    "    if range is None:\n",
    "        range = len(reviews)\n",
    "    for row in data[0:range]:\n",
    "        result = Counter(row)\n",
    "    return result\n",
    "\n",
    "def getScoresFromReviews(reviews, range):\n",
    "    if range is None:\n",
    "        range = len(reviews)\n",
    "    # 리뷰 없는 행 제거\n",
    "    data = reviews['text'].dropna(axis=0)\n",
    "\n",
    "    # 리뷰별로 로직 적용\n",
    "    for row in data[0:range]:\n",
    "        # row 는 리뷰 하나다\n",
    "        # 띄어쓰기 없애기\n",
    "        corpus = \"\".join(row)\n",
    "        # print('띄어쓰기 없앰', corpus)\n",
    "\n",
    "        # 문장부호 없애기\n",
    "        nouns = okt.nouns(applyRegularExpression(corpus))\n",
    "        #print('문장부호 없앰', nouns)\n",
    "\n",
    "        no_stop_words = [x for x in nouns if x not in stopwords if len(x) > 1]\n",
    "        #print('중성명사 없앰', no_stop_words)\n",
    "\n",
    "        #리뷰별로 점수 초기화\n",
    "        score = 0\n",
    "\n",
    "        for word in no_stop_words:\n",
    "            #각 단어의 점수 계산\n",
    "            wordscore = getScoreByWord(word)\n",
    "            # 리뷰 내 모든 단어의 점수 합산\n",
    "            score += int(getScoreByWord(word))\n",
    "\n",
    "        if(score != 0):\n",
    "            # 0 아니면 로그찍기\n",
    "            #전체리뷰보기\n",
    "            #print(row + '...', score)\n",
    "            # 앞 10글자만 보기\n",
    "            print(row[0:10] + '...', score)\n",
    "\n",
    "def getScoreByWord(wordname):\n",
    "    score = 0\n",
    "    for i in range(0, len(sentiwords)):\n",
    "        if sentiwords[i]['word_root'] == wordname:\n",
    "            result = sentiwords[i]['polarity']\n",
    "            score = int(result)\n",
    "            # print('점수 : ' + wordname + ' : ' + str(score))\n",
    "            \n",
    "    return score"
   ]
  },
  {
   "cell_type": "code",
   "execution_count": 4,
   "id": "330d1448-80c7-458d-b3fa-43bca6a7221f",
   "metadata": {},
   "outputs": [
    {
     "data": {
      "text/plain": [
       "[('콘센트', 6),\n",
       " ('소리', 5),\n",
       " ('하나', 4),\n",
       " ('개월', 4),\n",
       " ('쿠팡', 4),\n",
       " ('물건', 3),\n",
       " ('부분', 3),\n",
       " ('오늘', 3),\n",
       " ('냄새', 3),\n",
       " ('멀티탭', 3)]"
      ]
     },
     "execution_count": 4,
     "metadata": {},
     "output_type": "execute_result"
    }
   ],
   "source": [
    "countWords(rawData, 200).most_common(10)    "
   ]
  },
  {
   "cell_type": "code",
   "execution_count": 5,
   "id": "8f8ceed8-5baa-4a01-81c5-2fd312918ecd",
   "metadata": {},
   "outputs": [
    {
     "name": "stdout",
     "output_type": "stream",
     "text": [
      "이딴 쓰레기도 물건... -1\n",
      "별점 하나도 주기 ... 2\n",
      "와...\n",
      "이거 별 ... -1\n",
      "터졌어요ㅠㅠ  쿠팡... -4\n",
      "오늘 받았습니다\n",
      "고... -3\n",
      "싼 맛에 사지 마세... 1\n",
      "써바야겟지만 집에 ... -2\n",
      "한달째 쓰는중에 오... -2\n",
      "이런 후기 거의.안... 1\n",
      "사용한지 2년정도 ... 1\n",
      "쓰다가 터져서 저세... -1\n",
      "배송은 빠르고 좋았... -1\n",
      "멀티탭 그동안 여기... -3\n",
      "별하나도 아까워요 ... -2\n",
      "전기주전자 에어프라... -1\n",
      "황당해서 첨으로 리... -4\n",
      "별로예요\n",
      "원래 후기... -2\n",
      "전 아무것도 안했는... -1\n",
      "헐~   접촉이  ... -1\n",
      "배소오고나서 콘센트... -2\n",
      "전선에서 플라스틱탄... -2\n",
      "사용한지 얼마되지 ... -2\n",
      "냉장고하나, 드라이... -3\n",
      "두달 전에 구매했는... 1\n",
      "한개가 접촉 불량인... -2\n",
      "멀티탭 한개가 계속... -2\n",
      "디자인은 무난한데 ... -2\n",
      "4구중 1구가 안됨... -1\n",
      "불량이네요 역시 싼... -2\n",
      "멀티탭 마지막 한개... -4\n",
      "일주일만에 고장났어... -1\n",
      "전원을 연결해도 불... -1\n",
      "합선이 났는지\n",
      "펑 ... -2\n",
      "둘중에 하나가 불량... -2\n",
      "심하게 손상됨 전기... -1\n",
      "히터 한번 틀었는데... -2\n",
      "집에 전기렌지, 전... -3\n",
      "한달만에 지지직 소... -1\n"
     ]
    }
   ],
   "source": [
    "getScoresFromReviews(rawData, 100)"
   ]
  },
  {
   "cell_type": "code",
   "execution_count": 6,
   "id": "fdb2762a-778a-4165-b24a-b12ec7819f6c",
   "metadata": {},
   "outputs": [],
   "source": [
    "#countWordsByReview(rawData,100)"
   ]
  },
  {
   "cell_type": "code",
   "execution_count": null,
   "id": "1aee0a65-686b-4595-bad4-ab10fec0bfe9",
   "metadata": {},
   "outputs": [],
   "source": []
  },
  {
   "cell_type": "code",
   "execution_count": null,
   "id": "a8c0790d-a30c-43b4-9efd-7f5e62a9b251",
   "metadata": {},
   "outputs": [],
   "source": []
  },
  {
   "cell_type": "code",
   "execution_count": null,
   "id": "cefcd005-54af-4468-9e85-43d843f38804",
   "metadata": {},
   "outputs": [],
   "source": []
  },
  {
   "cell_type": "code",
   "execution_count": null,
   "id": "ca18e0e2-8d17-45ee-bf7d-0fffe24433ee",
   "metadata": {},
   "outputs": [],
   "source": []
  },
  {
   "cell_type": "code",
   "execution_count": null,
   "id": "b1c5fdde-c0ad-430f-a92d-67c3b7ea1f01",
   "metadata": {},
   "outputs": [],
   "source": []
  },
  {
   "cell_type": "code",
   "execution_count": null,
   "id": "4bad7d63-7c29-45be-befe-ef8039a1efad",
   "metadata": {},
   "outputs": [],
   "source": []
  },
  {
   "cell_type": "code",
   "execution_count": null,
   "id": "7966be32-2c6b-4faf-908b-5b062c738ed3",
   "metadata": {},
   "outputs": [],
   "source": []
  },
  {
   "cell_type": "code",
   "execution_count": null,
   "id": "3f1f2362-098d-4c4a-a607-ff1bcc5bc041",
   "metadata": {},
   "outputs": [],
   "source": [
    "\n"
   ]
  },
  {
   "cell_type": "code",
   "execution_count": null,
   "id": "47b944a2-a555-41bd-82e7-ace65f72b438",
   "metadata": {},
   "outputs": [],
   "source": []
  },
  {
   "cell_type": "code",
   "execution_count": null,
   "id": "d440a1d8-9f40-42e3-bba6-c60b3beaccf4",
   "metadata": {},
   "outputs": [],
   "source": []
  },
  {
   "cell_type": "code",
   "execution_count": null,
   "id": "4c304b5b-2843-4003-a172-0858030c23e0",
   "metadata": {},
   "outputs": [],
   "source": []
  },
  {
   "cell_type": "code",
   "execution_count": null,
   "id": "ac2a879a-6078-49fe-aa0c-a94010b63713",
   "metadata": {},
   "outputs": [],
   "source": [
    "'''\n",
    "from sklearn.feature_extraction.text import CountVectorizer\n",
    "\n",
    "def text_cleaning(text):\n",
    "    hangul = re.compile('[^ ㄱ-ㅣ 가-힣]')  # 정규 표현식 처리\n",
    "    result = hangul.sub('', text)\n",
    "    okt = Okt()  # 형태소 추출\n",
    "    nouns = okt.nouns(result)\n",
    "    nouns = [x for x in nouns if len(x) > 1]  # 한글자 키워드 제거\n",
    "    nouns = [x for x in nouns if x not in stopwords]  # 불용어 제거\n",
    "    return nouns\n",
    "\n",
    "vect = CountVectorizer(tokenizer = lambda x: text_cleaning(x))\n",
    "bow_vect = vect.fit_transform(cleaned.tolist())\n",
    "word_list = vect.get_feature_names()\n",
    "count_list = bow_vect.toarray().sum(axis=0)\n",
    "'''"
   ]
  },
  {
   "cell_type": "code",
   "execution_count": null,
   "id": "e9b28735-74d9-4fe5-b67a-27d48f42ecff",
   "metadata": {},
   "outputs": [],
   "source": []
  },
  {
   "cell_type": "code",
   "execution_count": null,
   "id": "9cb24a75-85ca-4dbe-a601-93b366acb5ec",
   "metadata": {},
   "outputs": [],
   "source": []
  },
  {
   "cell_type": "code",
   "execution_count": null,
   "id": "340c3b62-d960-4210-a613-b381695fb759",
   "metadata": {},
   "outputs": [],
   "source": []
  },
  {
   "cell_type": "code",
   "execution_count": null,
   "id": "2cc97e9d-c121-4cc7-a84c-0ba3a8a4d17e",
   "metadata": {},
   "outputs": [],
   "source": [
    "'''from sklearn.feature_extraction.text import TfidfTransformer\n",
    "\n",
    "#단어의 중요도 찾아내는 알고리즘\n",
    "tfidf_vectorizer = TfidfTransformer()\n",
    "tf_idf_vect = tfidf_vectorizer.fit_transform(bow_vect)\n",
    "'''"
   ]
  },
  {
   "cell_type": "code",
   "execution_count": null,
   "id": "07cd18e5-a4a1-43c0-86f4-9633cc784e3b",
   "metadata": {},
   "outputs": [],
   "source": [
    "#print(tf_idf_vect.shape)"
   ]
  },
  {
   "cell_type": "code",
   "execution_count": null,
   "id": "d28ca5fe-12b1-4ba2-ad61-ada601de658f",
   "metadata": {},
   "outputs": [],
   "source": []
  },
  {
   "cell_type": "code",
   "execution_count": null,
   "id": "967b6f38-5adb-47ff-8780-1a3ee18d8a14",
   "metadata": {},
   "outputs": [],
   "source": []
  }
 ],
 "metadata": {
  "kernelspec": {
   "display_name": "Python Multi",
   "language": "python",
   "name": "multi"
  },
  "language_info": {
   "codemirror_mode": {
    "name": "ipython",
    "version": 3
   },
   "file_extension": ".py",
   "mimetype": "text/x-python",
   "name": "python",
   "nbconvert_exporter": "python",
   "pygments_lexer": "ipython3",
   "version": "3.7.6"
  }
 },
 "nbformat": 4,
 "nbformat_minor": 5
}
