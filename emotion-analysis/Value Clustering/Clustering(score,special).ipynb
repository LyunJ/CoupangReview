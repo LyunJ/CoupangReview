{
 "cells": [
  {
   "cell_type": "code",
   "execution_count": 1,
   "id": "9395567e-66d5-4e23-b9d3-87d152b89801",
   "metadata": {},
   "outputs": [],
   "source": [
    "import pandas as pd\n",
    "import numpy as np\n",
    "from sklearn.cluster import KMeans\n",
    "import matplotlib.pyplot as plt\n",
    "import seaborn as sns"
   ]
  },
  {
   "cell_type": "code",
   "execution_count": null,
   "id": "be1ac955-1496-4c25-a6d3-9775e7707715",
   "metadata": {},
   "outputs": [],
   "source": []
  },
  {
   "cell_type": "code",
   "execution_count": 2,
   "id": "6f5391fa-9336-4ba5-97f0-bd42920b9517",
   "metadata": {},
   "outputs": [],
   "source": [
    "source=pd.read_csv('filtered_notext_review_addscore.csv')"
   ]
  },
  {
   "cell_type": "code",
   "execution_count": 3,
   "id": "aab4e6a1-6bc3-4a16-b24f-8350b48b0c2f",
   "metadata": {},
   "outputs": [],
   "source": [
    "df=pd.DataFrame(columns=(\"score\",\"special_char_count\"))\n",
    "peaks = pd.DataFrame(columns=(\"score\", \"review_len\", \"text\", \"name\", \"product\", \"manufacturer\", \"category\", \"date\"))"
   ]
  },
  {
   "cell_type": "code",
   "execution_count": 4,
   "id": "cb27ab76-4386-4bec-8eb8-d4b9e732726c",
   "metadata": {},
   "outputs": [
    {
     "data": {
      "text/html": [
       "<div>\n",
       "<style scoped>\n",
       "    .dataframe tbody tr th:only-of-type {\n",
       "        vertical-align: middle;\n",
       "    }\n",
       "\n",
       "    .dataframe tbody tr th {\n",
       "        vertical-align: top;\n",
       "    }\n",
       "\n",
       "    .dataframe thead th {\n",
       "        text-align: right;\n",
       "    }\n",
       "</style>\n",
       "<table border=\"1\" class=\"dataframe\">\n",
       "  <thead>\n",
       "    <tr style=\"text-align: right;\">\n",
       "      <th></th>\n",
       "      <th>score</th>\n",
       "      <th>special_char_count</th>\n",
       "    </tr>\n",
       "  </thead>\n",
       "  <tbody>\n",
       "  </tbody>\n",
       "</table>\n",
       "</div>"
      ],
      "text/plain": [
       "Empty DataFrame\n",
       "Columns: [score, special_char_count]\n",
       "Index: []"
      ]
     },
     "execution_count": 4,
     "metadata": {},
     "output_type": "execute_result"
    }
   ],
   "source": [
    "df.head(10)"
   ]
  },
  {
   "cell_type": "code",
   "execution_count": 5,
   "id": "acf41fcd-fb1b-4a6d-8d46-aa8b12ec467e",
   "metadata": {},
   "outputs": [],
   "source": [
    "df.loc[0]=[source.score[0],source.special_char_count[0]]"
   ]
  },
  {
   "cell_type": "code",
   "execution_count": 6,
   "id": "5d7dafc9-bc05-4794-aabf-cf41ab8bdf7b",
   "metadata": {},
   "outputs": [],
   "source": [
    "for i in range(0,len(source),1):\n",
    "#for i in range(1000):    \n",
    "    df.loc[i]=[source.score[i],source.special_char_count[i]]"
   ]
  },
  {
   "cell_type": "code",
   "execution_count": 7,
   "id": "46fdf6c8-e115-405f-a61b-1922dae35990",
   "metadata": {},
   "outputs": [],
   "source": [
    "for i in range(0,len(source),1):    \n",
    "    if(source.score[i]>0 and source.special_char_count[i]>90 and source.product_count[i]>2 and source.manufacturer_count[i]>2 and source.review_len[i]>1000):\n",
    "        peaks.loc[i] = [source.score[i], source.review_len[i], source.text[i], source.name[i], source['product'][i], source['manufacturer'][i], source[\"category\"][i],source[\"date\"][i]]"
   ]
  },
  {
   "cell_type": "code",
   "execution_count": null,
   "id": "e126a3eb-8057-4ab3-8dc7-56eac607b9b9",
   "metadata": {},
   "outputs": [],
   "source": []
  },
  {
   "cell_type": "code",
   "execution_count": 20,
   "id": "fe543991-a33d-4aee-8a66-5982de07f9b0",
   "metadata": {},
   "outputs": [],
   "source": [
    "peaks.to_csv('./spamFiltering3.csv', encoding='utf-8-sig')"
   ]
  },
  {
   "cell_type": "code",
   "execution_count": null,
   "id": "cd012309-261e-4d22-8eeb-73542a990910",
   "metadata": {},
   "outputs": [],
   "source": []
  },
  {
   "cell_type": "code",
   "execution_count": 8,
   "id": "6648fa09-7d4b-4d86-bfaa-8198097c1426",
   "metadata": {},
   "outputs": [
    {
     "name": "stderr",
     "output_type": "stream",
     "text": [
      "C:\\ProgramData\\Anaconda3\\lib\\site-packages\\seaborn\\_decorators.py:36: FutureWarning: Pass the following variables as keyword args: x, y. From version 0.12, the only valid positional argument will be `data`, and passing other arguments without an explicit keyword will result in an error or misinterpretation.\n",
      "  warnings.warn(\n",
      "C:\\ProgramData\\Anaconda3\\lib\\site-packages\\seaborn\\regression.py:580: UserWarning: The `size` parameter has been renamed to `height`; please update your code.\n",
      "  warnings.warn(msg, UserWarning)\n"
     ]
    },
    {
     "data": {
      "text/plain": [
       "Text(0.5, 1.0, 'kmean plot')"
      ]
     },
     "execution_count": 8,
     "metadata": {},
     "output_type": "execute_result"
    },
    {
     "data": {
      "image/png": "[encoded data removed]",
      "text/plain": [
       "<Figure size 360x360 with 1 Axes>"
      ]
     },
     "metadata": {
      "needs_background": "light"
     },
     "output_type": "display_data"
    }
   ],
   "source": [
    "#visualize data point\n",
    "sns.lmplot('score','special_char_count', data=df, fit_reg = False, scatter_kws={\"s\":50}, size=5)\n",
    "#title\n",
    "plt.title('kmean plot')"
   ]
  },
  {
   "cell_type": "code",
   "execution_count": 79,
   "id": "63f85efe-201a-42be-8826-20f66eac9ed6",
   "metadata": {},
   "outputs": [],
   "source": [
    "# sns.lmplot(x='score',y='special_char_count', data=df)\n",
    "# #title\n",
    "# plt.title('kmean plot')"
   ]
  },
  {
   "cell_type": "code",
   "execution_count": null,
   "id": "0712cfbb-4903-4850-8ed4-37e2a739d7b5",
   "metadata": {},
   "outputs": [],
   "source": []
  },
  {
   "cell_type": "code",
   "execution_count": 9,
   "id": "4b1df499-cf14-4b32-a1c6-ef4b53dd257a",
   "metadata": {},
   "outputs": [],
   "source": [
    "data_points = df.values"
   ]
  },
  {
   "cell_type": "code",
   "execution_count": 10,
   "id": "1596ccfe-fdd9-461d-9a08-24fb864544f0",
   "metadata": {},
   "outputs": [],
   "source": [
    "kmeans = KMeans(n_clusters=3).fit(data_points)"
   ]
  },
  {
   "cell_type": "code",
   "execution_count": 11,
   "id": "1eacd559-b773-4998-81e6-7aa067316dd7",
   "metadata": {},
   "outputs": [
    {
     "data": {
      "text/plain": [
       "array([0, 0, 0, ..., 0, 0, 0])"
      ]
     },
     "execution_count": 11,
     "metadata": {},
     "output_type": "execute_result"
    }
   ],
   "source": [
    "kmeans.labels_"
   ]
  },
  {
   "cell_type": "code",
   "execution_count": 12,
   "id": "736a7a92-0cd4-4a87-a8fd-9b70d12c100d",
   "metadata": {},
   "outputs": [],
   "source": [
    "df['cluster_id']=kmeans.labels_"
   ]
  },
  {
   "cell_type": "code",
   "execution_count": 13,
   "id": "e48e6c12-94c1-44af-8599-cc8a382be6b2",
   "metadata": {},
   "outputs": [
    {
     "data": {
      "text/html": [
       "<div>\n",
       "<style scoped>\n",
       "    .dataframe tbody tr th:only-of-type {\n",
       "        vertical-align: middle;\n",
       "    }\n",
       "\n",
       "    .dataframe tbody tr th {\n",
       "        vertical-align: top;\n",
       "    }\n",
       "\n",
       "    .dataframe thead th {\n",
       "        text-align: right;\n",
       "    }\n",
       "</style>\n",
       "<table border=\"1\" class=\"dataframe\">\n",
       "  <thead>\n",
       "    <tr style=\"text-align: right;\">\n",
       "      <th></th>\n",
       "      <th>score</th>\n",
       "      <th>special_char_count</th>\n",
       "      <th>cluster_id</th>\n",
       "    </tr>\n",
       "  </thead>\n",
       "  <tbody>\n",
       "    <tr>\n",
       "      <th>0</th>\n",
       "      <td>-2</td>\n",
       "      <td>2</td>\n",
       "      <td>0</td>\n",
       "    </tr>\n",
       "    <tr>\n",
       "      <th>1</th>\n",
       "      <td>0</td>\n",
       "      <td>0</td>\n",
       "      <td>0</td>\n",
       "    </tr>\n",
       "    <tr>\n",
       "      <th>2</th>\n",
       "      <td>0</td>\n",
       "      <td>0</td>\n",
       "      <td>0</td>\n",
       "    </tr>\n",
       "    <tr>\n",
       "      <th>3</th>\n",
       "      <td>0</td>\n",
       "      <td>0</td>\n",
       "      <td>0</td>\n",
       "    </tr>\n",
       "    <tr>\n",
       "      <th>4</th>\n",
       "      <td>0</td>\n",
       "      <td>0</td>\n",
       "      <td>0</td>\n",
       "    </tr>\n",
       "    <tr>\n",
       "      <th>...</th>\n",
       "      <td>...</td>\n",
       "      <td>...</td>\n",
       "      <td>...</td>\n",
       "    </tr>\n",
       "    <tr>\n",
       "      <th>151316</th>\n",
       "      <td>0</td>\n",
       "      <td>0</td>\n",
       "      <td>0</td>\n",
       "    </tr>\n",
       "    <tr>\n",
       "      <th>151317</th>\n",
       "      <td>0</td>\n",
       "      <td>2</td>\n",
       "      <td>0</td>\n",
       "    </tr>\n",
       "    <tr>\n",
       "      <th>151318</th>\n",
       "      <td>-2</td>\n",
       "      <td>0</td>\n",
       "      <td>0</td>\n",
       "    </tr>\n",
       "    <tr>\n",
       "      <th>151319</th>\n",
       "      <td>0</td>\n",
       "      <td>0</td>\n",
       "      <td>0</td>\n",
       "    </tr>\n",
       "    <tr>\n",
       "      <th>151320</th>\n",
       "      <td>0</td>\n",
       "      <td>0</td>\n",
       "      <td>0</td>\n",
       "    </tr>\n",
       "  </tbody>\n",
       "</table>\n",
       "<p>151321 rows × 3 columns</p>\n",
       "</div>"
      ],
      "text/plain": [
       "       score special_char_count  cluster_id\n",
       "0         -2                  2           0\n",
       "1          0                  0           0\n",
       "2          0                  0           0\n",
       "3          0                  0           0\n",
       "4          0                  0           0\n",
       "...      ...                ...         ...\n",
       "151316     0                  0           0\n",
       "151317     0                  2           0\n",
       "151318    -2                  0           0\n",
       "151319     0                  0           0\n",
       "151320     0                  0           0\n",
       "\n",
       "[151321 rows x 3 columns]"
      ]
     },
     "execution_count": 13,
     "metadata": {},
     "output_type": "execute_result"
    }
   ],
   "source": [
    "df"
   ]
  },
  {
   "cell_type": "code",
   "execution_count": 21,
   "id": "dbb69d5d-6f49-4c7f-957d-9ac7180a1987",
   "metadata": {},
   "outputs": [
    {
     "name": "stderr",
     "output_type": "stream",
     "text": [
      "C:\\ProgramData\\Anaconda3\\lib\\site-packages\\seaborn\\_decorators.py:36: FutureWarning: Pass the following variables as keyword args: x, y. From version 0.12, the only valid positional argument will be `data`, and passing other arguments without an explicit keyword will result in an error or misinterpretation.\n",
      "  warnings.warn(\n",
      "C:\\ProgramData\\Anaconda3\\lib\\site-packages\\seaborn\\regression.py:580: UserWarning: The `size` parameter has been renamed to `height`; please update your code.\n",
      "  warnings.warn(msg, UserWarning)\n"
     ]
    },
    {
     "data": {
      "text/plain": [
       "Text(0.5, 1.0, 'kmean plt')"
      ]
     },
     "execution_count": 21,
     "metadata": {},
     "output_type": "execute_result"
    },
    {
     "data": {
      "image/png": "[encoded data removed]",
      "text/plain": [
       "<Figure size 416.375x360 with 1 Axes>"
      ]
     },
     "metadata": {
      "needs_background": "light"
     },
     "output_type": "display_data"
    }
   ],
   "source": [
    "sns.lmplot('score','special_char_count', data=df, fit_reg=False, scatter_kws={'s':10}, hue=\"cluster_id\", size=5)\n",
    "plt.title('kmean plt')"
   ]
  },
  {
   "cell_type": "code",
   "execution_count": 15,
   "id": "205e1232-30e8-4cf0-826d-659206fbce12",
   "metadata": {},
   "outputs": [
    {
     "data": {
      "image/png": "[encoded data removed]",
      "text/plain": [
       "<Figure size 432x288 with 1 Axes>"
      ]
     },
     "metadata": {
      "needs_background": "light"
     },
     "output_type": "display_data"
    }
   ],
   "source": [
    "num_clusters = list(range(1, 9))\t# K는 1 ~ 8사이의 정수입니다\n",
    "inertias = []\n",
    "# 각 K별로 모델을 생성하여 inertia를 측정합니다\n",
    "for i in num_clusters:\n",
    "    model = KMeans(n_clusters=i)\n",
    "    model.fit(df)\n",
    "    inertias.append(model.inertia_)\n",
    "# K에 따른 inertia의 변화를 시각화합니다\n",
    "plt.plot(num_clusters, inertias, '-o')\n",
    "plt.xlabel('Number of Clusters (k)')\n",
    "plt.ylabel('Inertia')\n",
    "plt.show()"
   ]
  },
  {
   "cell_type": "code",
   "execution_count": null,
   "id": "2519d096-6e38-4a42-bfab-78d4b9fca48c",
   "metadata": {},
   "outputs": [],
   "source": []
  },
  {
   "cell_type": "code",
   "execution_count": null,
   "id": "ad94f523-425a-446d-974d-00b950ae0981",
   "metadata": {},
   "outputs": [],
   "source": []
  },
  {
   "cell_type": "code",
   "execution_count": null,
   "id": "a4ec8a1a-048b-4073-b07e-c76ee7879b3a",
   "metadata": {},
   "outputs": [],
   "source": []
  },
  {
   "cell_type": "code",
   "execution_count": null,
   "id": "aaf035c7-6ffc-4bbe-acd6-69c2c8f6d2ad",
   "metadata": {},
   "outputs": [],
   "source": []
  },
  {
   "cell_type": "code",
   "execution_count": null,
   "id": "666848f7-482c-4e51-879b-0a80be97a014",
   "metadata": {},
   "outputs": [],
   "source": []
  },
  {
   "cell_type": "code",
   "execution_count": null,
   "id": "0c53a094-22ce-41db-889e-81b9c2a75862",
   "metadata": {},
   "outputs": [],
   "source": []
  },
  {
   "cell_type": "code",
   "execution_count": null,
   "id": "0345c9bf-8e6d-42a0-b590-c967d538722b",
   "metadata": {},
   "outputs": [],
   "source": []
  },
  {
   "cell_type": "code",
   "execution_count": null,
   "id": "b9ed5bda-8f4d-470e-b0d5-c8ca5f780385",
   "metadata": {},
   "outputs": [],
   "source": []
  },
  {
   "cell_type": "code",
   "execution_count": null,
   "id": "35985fbc-563a-45c2-97bc-4a03c89781ad",
   "metadata": {},
   "outputs": [],
   "source": []
  },
  {
   "cell_type": "code",
   "execution_count": null,
   "id": "c0d13103-0457-4ba5-ae18-94832a560785",
   "metadata": {},
   "outputs": [],
   "source": []
  },
  {
   "cell_type": "code",
   "execution_count": null,
   "id": "5e9e2b85-045f-4f92-ab4c-acab306a1dcb",
   "metadata": {},
   "outputs": [],
   "source": []
  },
  {
   "cell_type": "code",
   "execution_count": null,
   "id": "f111cad8-05be-4b23-8501-59dca1df24c0",
   "metadata": {},
   "outputs": [],
   "source": []
  },
  {
   "cell_type": "code",
   "execution_count": null,
   "id": "062cf877-7ced-4974-b4e9-5a6d4ee3c286",
   "metadata": {},
   "outputs": [],
   "source": []
  },
  {
   "cell_type": "code",
   "execution_count": null,
   "id": "d28b5893-c344-4125-be2d-24591f09a99a",
   "metadata": {},
   "outputs": [],
   "source": []
  }
 ],
 "metadata": {
  "kernelspec": {
   "display_name": "Python 3",
   "language": "python",
   "name": "python3"
  },
  "language_info": {
   "codemirror_mode": {
    "name": "ipython",
    "version": 3
   },
   "file_extension": ".py",
   "mimetype": "text/x-python",
   "name": "python",
   "nbconvert_exporter": "python",
   "pygments_lexer": "ipython3",
   "version": "3.8.8"
  }
 },
 "nbformat": 4,
 "nbformat_minor": 5
}
