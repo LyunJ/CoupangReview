{
 "cells": [
  {
   "cell_type": "code",
   "execution_count": 85,
   "id": "3232a48f-6a55-49e6-b0d9-16279368ba28",
   "metadata": {},
   "outputs": [],
   "source": [
    "import numpy as np\n",
    "from matplotlib import font_manager, rc\n",
    "import matplotlib.pyplot as plt\n",
    "import os\n",
    "import json\n",
    "from konlpy.tag import Okt\n",
    "import pymysql.cursors\n",
    "import pandas as pd\n",
    "import re\n",
    "import numpy as np\n",
    "import tensorflow as tf\n",
    "from tensorflow import keras"
   ]
  },
  {
   "cell_type": "code",
   "execution_count": 87,
   "id": "209e3b44-c09e-412d-9567-9fc8ed80b552",
   "metadata": {},
   "outputs": [],
   "source": [
    "conn = pymysql.connect(host='localhost',\n",
    "                       user='lyunj',\n",
    "                       password='Dldbswo77@',\n",
    "                       db='coupang_review',  # coupang_review 스키마 생성 필요\n",
    "                       charset='utf8',\n",
    "                       cursorclass=pymysql.cursors.DictCursor)\n",
    "try:\n",
    "    with conn.cursor() as curs:\n",
    "        sql = 'select *,(if(special_char_count = 0,1,special_char_count) * if(manufacturer_count = 0,1,manufacturer_count) * if(product_count = 0,1,product_count)) / if(review_len = 0, 1, review_len) as c1 from review_analyzing_data where review_len <> 0 and not isnull(review_score)'\n",
    "        curs.execute(sql)\n",
    "        result = curs.fetchall()\n",
    "        df = pd.DataFrame(result)\n",
    "finally:\n",
    "    conn.close()\n",
    "    "
   ]
  },
  {
   "cell_type": "code",
   "execution_count": 88,
   "id": "84fa23f7-ab1b-4f80-8d8f-a0387fc29ce4",
   "metadata": {},
   "outputs": [
    {
     "data": {
      "text/html": [
       "<div>\n",
       "<style scoped>\n",
       "    .dataframe tbody tr th:only-of-type {\n",
       "        vertical-align: middle;\n",
       "    }\n",
       "\n",
       "    .dataframe tbody tr th {\n",
       "        vertical-align: top;\n",
       "    }\n",
       "\n",
       "    .dataframe thead th {\n",
       "        text-align: right;\n",
       "    }\n",
       "</style>\n",
       "<table border=\"1\" class=\"dataframe\">\n",
       "  <thead>\n",
       "    <tr style=\"text-align: right;\">\n",
       "      <th></th>\n",
       "      <th>product_review_index</th>\n",
       "      <th>product_index</th>\n",
       "      <th>category_index</th>\n",
       "      <th>review_date</th>\n",
       "      <th>review_rating</th>\n",
       "      <th>newline_count</th>\n",
       "      <th>review_len</th>\n",
       "      <th>special_char_count</th>\n",
       "      <th>manufacturer_count</th>\n",
       "      <th>product_count</th>\n",
       "      <th>review_score</th>\n",
       "      <th>c1</th>\n",
       "    </tr>\n",
       "  </thead>\n",
       "  <tbody>\n",
       "    <tr>\n",
       "      <th>0</th>\n",
       "      <td>0</td>\n",
       "      <td>1</td>\n",
       "      <td>3</td>\n",
       "      <td>2017-08-06</td>\n",
       "      <td>1</td>\n",
       "      <td>0</td>\n",
       "      <td>108</td>\n",
       "      <td>0</td>\n",
       "      <td>0</td>\n",
       "      <td>0</td>\n",
       "      <td>47</td>\n",
       "      <td>0.0093</td>\n",
       "    </tr>\n",
       "    <tr>\n",
       "      <th>1</th>\n",
       "      <td>0</td>\n",
       "      <td>6663</td>\n",
       "      <td>6665</td>\n",
       "      <td>2021-02-12</td>\n",
       "      <td>1</td>\n",
       "      <td>0</td>\n",
       "      <td>18</td>\n",
       "      <td>0</td>\n",
       "      <td>0</td>\n",
       "      <td>0</td>\n",
       "      <td>7</td>\n",
       "      <td>0.0556</td>\n",
       "    </tr>\n",
       "    <tr>\n",
       "      <th>2</th>\n",
       "      <td>0</td>\n",
       "      <td>21715</td>\n",
       "      <td>21717</td>\n",
       "      <td>2019-03-24</td>\n",
       "      <td>1</td>\n",
       "      <td>37</td>\n",
       "      <td>954</td>\n",
       "      <td>2</td>\n",
       "      <td>0</td>\n",
       "      <td>0</td>\n",
       "      <td>3</td>\n",
       "      <td>0.0021</td>\n",
       "    </tr>\n",
       "    <tr>\n",
       "      <th>3</th>\n",
       "      <td>0</td>\n",
       "      <td>42617</td>\n",
       "      <td>42619</td>\n",
       "      <td>2017-05-14</td>\n",
       "      <td>1</td>\n",
       "      <td>2</td>\n",
       "      <td>735</td>\n",
       "      <td>5</td>\n",
       "      <td>0</td>\n",
       "      <td>3</td>\n",
       "      <td>99</td>\n",
       "      <td>0.0204</td>\n",
       "    </tr>\n",
       "    <tr>\n",
       "      <th>4</th>\n",
       "      <td>0</td>\n",
       "      <td>61420</td>\n",
       "      <td>61422</td>\n",
       "      <td>2020-03-18</td>\n",
       "      <td>1</td>\n",
       "      <td>20</td>\n",
       "      <td>217</td>\n",
       "      <td>3</td>\n",
       "      <td>4</td>\n",
       "      <td>5</td>\n",
       "      <td>98</td>\n",
       "      <td>0.2765</td>\n",
       "    </tr>\n",
       "  </tbody>\n",
       "</table>\n",
       "</div>"
      ],
      "text/plain": [
       "   product_review_index  product_index  category_index review_date  \\\n",
       "0                     0              1               3  2017-08-06   \n",
       "1                     0           6663            6665  2021-02-12   \n",
       "2                     0          21715           21717  2019-03-24   \n",
       "3                     0          42617           42619  2017-05-14   \n",
       "4                     0          61420           61422  2020-03-18   \n",
       "\n",
       "   review_rating  newline_count  review_len  special_char_count  \\\n",
       "0              1              0         108                   0   \n",
       "1              1              0          18                   0   \n",
       "2              1             37         954                   2   \n",
       "3              1              2         735                   5   \n",
       "4              1             20         217                   3   \n",
       "\n",
       "   manufacturer_count  product_count  review_score      c1  \n",
       "0                   0              0            47  0.0093  \n",
       "1                   0              0             7  0.0556  \n",
       "2                   0              0             3  0.0021  \n",
       "3                   0              3            99  0.0204  \n",
       "4                   4              5            98  0.2765  "
      ]
     },
     "execution_count": 88,
     "metadata": {},
     "output_type": "execute_result"
    }
   ],
   "source": [
    "df.head()"
   ]
  },
  {
   "cell_type": "code",
   "execution_count": 125,
   "id": "3916d3fc-bf7d-4b8f-93db-fa11c2133b1f",
   "metadata": {},
   "outputs": [
    {
     "data": {
      "image/png": "[encoded data removed]",
      "text/plain": [
       "<Figure size 432x288 with 1 Axes>"
      ]
     },
     "metadata": {
      "needs_background": "light"
     },
     "output_type": "display_data"
    }
   ],
   "source": [
    "plt.scatter(df['review_score'],df['c1'])\n",
    "plt.xlabel(\"review_score\", fontsize=13)\n",
    "plt.ylabel(\"n\", fontsize=13)\n",
    "plt.grid()\n",
    "plt.show()"
   ]
  },
  {
   "cell_type": "code",
   "execution_count": 124,
   "id": "93160477-c4f5-4902-be9a-47bea0decb0b",
   "metadata": {},
   "outputs": [
    {
     "data": {
      "image/png": "[encoded data removed]",
      "text/plain": [
       "<Figure size 432x288 with 1 Axes>"
      ]
     },
     "metadata": {
      "needs_background": "light"
     },
     "output_type": "display_data"
    }
   ],
   "source": [
    "plt.scatter(df['review_rating'],df['c1'])\n",
    "plt.xlabel(\"review_score\", fontsize=13)\n",
    "plt.ylabel(\"n\", fontsize=13)\n",
    "plt.grid()\n",
    "plt.show()"
   ]
  },
  {
   "cell_type": "code",
   "execution_count": null,
   "id": "20b8146a-b059-41c0-bf71-1d768e41bd2a",
   "metadata": {},
   "outputs": [],
   "source": []
  }
 ],
 "metadata": {
  "kernelspec": {
   "display_name": "Review Project",
   "language": "python",
   "name": "reviewproject"
  },
  "language_info": {
   "codemirror_mode": {
    "name": "ipython",
    "version": 3
   },
   "file_extension": ".py",
   "mimetype": "text/x-python",
   "name": "python",
   "nbconvert_exporter": "python",
   "pygments_lexer": "ipython3",
   "version": "3.8.3"
  }
 },
 "nbformat": 4,
 "nbformat_minor": 5
}
