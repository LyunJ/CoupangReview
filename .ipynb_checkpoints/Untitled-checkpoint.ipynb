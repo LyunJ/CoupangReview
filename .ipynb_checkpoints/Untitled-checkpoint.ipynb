{
 "cells": [
  {
   "cell_type": "code",
   "execution_count": 1,
   "id": "a5481d8e-dde3-4e6d-98e5-ba2e3c365579",
   "metadata": {},
   "outputs": [],
   "source": [
    "from sklearn.model_selection import train_test_split\n",
    "from tensorflow.keras import metrics\n",
    "from tensorflow.keras import losses\n",
    "from tensorflow.keras import optimizers\n",
    "from tensorflow.keras import layers\n",
    "from tensorflow.keras import models\n",
    "import numpy as np\n",
    "from matplotlib import font_manager, rc\n",
    "import matplotlib.pyplot as plt\n",
    "import os\n",
    "import json\n",
    "from konlpy.tag import Okt\n",
    "import pymysql.cursors\n",
    "import pandas as pd\n",
    "import re"
   ]
  },
  {
   "cell_type": "code",
   "execution_count": null,
   "id": "7ad1c903-593d-4816-b9a5-ebd5919c237e",
   "metadata": {},
   "outputs": [],
   "source": [
    "conn = pymysql.connect(host='localhost',\n",
    "                       user='lyunj',\n",
    "                       password='Dldbswo77@',\n",
    "                       db='coupang_review',  # coupang_review 스키마 생성 필요\n",
    "                       charset='utf8',\n",
    "                       cursorclass=pymysql.cursors.DictCursor)\n",
    "\n",
    "try:\n",
    "    with conn.cursor() as curs:\n",
    "        sql = 'select rating,review_content, review_len from csv_save where (rating =1 or rating=5) and review_len <> 0'\n",
    "        curs.execute(sql)\n",
    "        result = curs.fetchall()\n",
    "        df = pd.DataFrame(result)\n",
    "finally:\n",
    "    conn.close()\n",
    "\n",
    "\n",
    "okt = Okt()\n",
    "\n",
    "\n",
    "def tokenize(review):\n",
    "    return ['/'.join(t) for t in okt.pos(review, norm=True, stem=True)]\n",
    "\n",
    "\n",
    "reviews = []\n",
    "print(df.loc[1:5])\n",
    "for i in df.index:\n",
    "    if i % 100 == 0:\n",
    "        print('진행개수 : ', i)\n",
    "    row = df._get_value(i, 'review_content')\n",
    "    row = re.sub('\\n', '', row)\n",
    "    row = re.sub('\\u200b', '', row)\n",
    "    row = re.sub('\\xa0', '', row)\n",
    "    row = re.sub('([a-zA-Z])', '', row)\n",
    "    row = re.sub('[ㄱ-ㅎㅏ-ㅣ]+', '', row)\n",
    "    row = re.sub(\n",
    "        '[-=+,#/\\?:^$.@*\\\"※~&%ㆍ!』\\\\‘|\\(\\)\\[\\]\\<\\>`\\'…》]', '', row)\n",
    "    reviews.append([tokenize(row), str(df._get_value(i, 'rating')),str(df._get_value(i,'review_len'))])\n",
    "\n",
    "with open('review_token.json', 'w', encoding='utf-8') as make_file:\n",
    "    json.dump(reviews, make_file, ensure_ascii=False, indent='\\t')"
   ]
  },
  {
   "cell_type": "code",
   "execution_count": 2,
   "id": "01c635dc-1604-4514-9c67-7dfe908ff8ad",
   "metadata": {},
   "outputs": [
    {
     "name": "stdout",
     "output_type": "stream",
     "text": [
      "24570\n"
     ]
    }
   ],
   "source": [
    "import nltk\n",
    "\n",
    "with open('review_token.json', encoding='utf-8') as f:\n",
    "    review_token = json.load(f)\n",
    "\n",
    "tokens = [t for d in review_token for t in d[0] if ((\n",
    "    t.split('/')[1] == 'Noun') or (t.split('/')[1] == 'Adjective')) and len(t.split('/')[0]) > 1]\n",
    "\n",
    "text = nltk.Text(tokens, name='NMSC')\n",
    "\n",
    "print(len(set(text.tokens)))"
   ]
  },
  {
   "cell_type": "code",
   "execution_count": 7,
   "id": "9ac8de23-db11-4cb1-b92a-9e1bfd1b3014",
   "metadata": {},
   "outputs": [],
   "source": [
    "tokens_1 = [t for d in review_token for t in d[0] if ((\n",
    "    t.split('/')[1] == 'Noun') or\n",
    "    (t.split('/')[1] == 'Adjective')) \n",
    "            and len(t.split('/')[0]) > 1 and d[1] == '1']\n",
    "\n",
    "text_1 = nltk.Text(tokens_1, name='NMSC')\n",
    "\n",
    "rating_1 = text_1.vocab().most_common(100)\n",
    "\n",
    "tokens_5 = [t for d in review_token for t in d[0] if ((\n",
    "    t.split('/')[1] == 'Noun') or\n",
    "    (t.split('/')[1] == 'Adjective')) and len(t.split('/')[0]) > 1 and d[1] == '5']\n",
    "text_5 = nltk.Text(tokens_5, name='NMSC')\n",
    "\n",
    "rating_5 = text_5.vocab().most_common(100)\n",
    "\n",
    "rating_1_word = [x[0] for x in rating_1]\n",
    "rating_5_word = [x[0] for x in rating_5]\n",
    "\n",
    "common_word = [x for x in rating_1_word if x in rating_5_word]\n",
    "\n",
    "rating_1_word_not_common = [x for x in rating_1_word if x not in common_word]\n",
    "rating_5_word_not_common = [x for x in rating_5_word if x not in common_word]\n",
    "\n",
    "# tokens_1_word = [x for x in tokens_1 if x not in common_word]\n",
    "# tokens_5_word = [x for x in tokens_5 if x not in common_word]"
   ]
  },
  {
   "cell_type": "code",
   "execution_count": 8,
   "id": "527783fe-f08a-4a16-bc9e-16c9c38e88f5",
   "metadata": {},
   "outputs": [
    {
     "name": "stdout",
     "output_type": "stream",
     "text": [
      "56\n",
      "44\n",
      "44\n"
     ]
    }
   ],
   "source": [
    "print(len(common_word))\n",
    "print(len(rating_1_word_not_common))\n",
    "print(len(rating_5_word_not_common))"
   ]
  },
  {
   "cell_type": "code",
   "execution_count": 62,
   "id": "db82bc8d-5197-4fe4-a6a8-6240fbc3cf0c",
   "metadata": {},
   "outputs": [],
   "source": []
  },
  {
   "cell_type": "code",
   "execution_count": 48,
   "id": "b6ebe7f4-2356-4d31-97fc-c29cc46848de",
   "metadata": {},
   "outputs": [],
   "source": []
  },
  {
   "cell_type": "code",
   "execution_count": 48,
   "id": "f9985166-0290-4538-abf0-e02f030bbd21",
   "metadata": {},
   "outputs": [],
   "source": []
  },
  {
   "cell_type": "code",
   "execution_count": 48,
   "id": "7fb1f990-be87-4322-aff3-f3f1eae29a2f",
   "metadata": {},
   "outputs": [],
   "source": []
  },
  {
   "cell_type": "code",
   "execution_count": 48,
   "id": "25db0892-3ebf-415d-894e-c33086ccad58",
   "metadata": {},
   "outputs": [],
   "source": []
  },
  {
   "cell_type": "code",
   "execution_count": 48,
   "id": "d645e3c1-856f-4ab9-ab11-0c16388a69e6",
   "metadata": {},
   "outputs": [
    {
     "name": "stdout",
     "output_type": "stream",
     "text": [
      "7347\n",
      "2414\n",
      "14809\n"
     ]
    }
   ],
   "source": []
  },
  {
   "cell_type": "code",
   "execution_count": null,
   "id": "78777673-ecde-4070-be61-a500121ec7e6",
   "metadata": {},
   "outputs": [],
   "source": [
    "\n"
   ]
  },
  {
   "cell_type": "code",
   "execution_count": 38,
   "id": "2295fec0-a4d0-4ba7-8a1a-d00bbaf51885",
   "metadata": {},
   "outputs": [],
   "source": [
    "text_count = text.vocab()\n",
    "common_token = [int(text_count[x]) for x in common_word]\n",
    "rating_1_token = [int(text_count[x]) for x in rating_1_word_not_common]\n",
    "rating_5_token = [int(text_count[x]) for x in rating_5_word_not_common]"
   ]
  },
  {
   "cell_type": "code",
   "execution_count": 47,
   "id": "9e40c038-1604-4b71-8454-3869df17ae72",
   "metadata": {},
   "outputs": [
    {
     "name": "stdout",
     "output_type": "stream",
     "text": [
      "28714\n",
      "2\n",
      "12\n",
      "1\n",
      "487\n",
      "1\n"
     ]
    }
   ],
   "source": [
    "common_max = max(common_token)\n",
    "common_min = min(common_token)\n",
    "rating_1_max = max(rating_1_token)\n",
    "rating_1_min = min(rating_1_token)\n",
    "rating_5_max = max(rating_5_token)\n",
    "rating_5_min = min(rating_5_token)\n",
    "print(common_max)\n",
    "print(common_min)\n",
    "print(rating_1_max)\n",
    "print(rating_1_min)\n",
    "print(rating_5_max)\n",
    "print(rating_5_min)"
   ]
  },
  {
   "cell_type": "code",
   "execution_count": 7,
   "id": "52751b92-b6f8-4c8b-8c04-747a21752686",
   "metadata": {},
   "outputs": [],
   "source": [
    "def norm_common(x):\n",
    "    return (x - common_min) / (common_max - common_min)\n",
    "def norm_rating_1(x):\n",
    "    return (x - rating_1_min) / (rating_1_max - rating_1_min)\n",
    "def norm_rating_5(x):\n",
    "    return (x - rating_5_min) / (rating_5_max - rating_5_min)"
   ]
  },
  {
   "cell_type": "code",
   "execution_count": 8,
   "id": "32fc2102-b27a-4b07-9e6b-36a63e34e15d",
   "metadata": {},
   "outputs": [],
   "source": [
    "common_word_sort = [x for x in text_count if x in common_word]\n",
    "rating_1_word_sort = [x for x in text_count if x in rating_1_word_not_common]\n",
    "rating_5_word_sort = [x for x in text_count if x in rating_5_word_not_common]"
   ]
  },
  {
   "cell_type": "code",
   "execution_count": 56,
   "id": "d4053428-3eaf-4393-9fb8-f5234aa41ab2",
   "metadata": {},
   "outputs": [
    {
     "data": {
      "text/plain": [
       "690"
      ]
     },
     "execution_count": 56,
     "metadata": {},
     "output_type": "execute_result"
    }
   ],
   "source": [
    "rating_1['반품/Noun']"
   ]
  },
  {
   "cell_type": "code",
   "execution_count": 52,
   "id": "ce361820-eb5b-4674-9db8-e3ad9484d09c",
   "metadata": {},
   "outputs": [
    {
     "data": {
      "image/png": "[encoded data removed]",
      "text/plain": [
       "<Figure size 1440x720 with 1 Axes>"
      ]
     },
     "metadata": {
      "needs_background": "light"
     },
     "output_type": "display_data"
    }
   ],
   "source": [
    "font_fname = 'c:/windows/fonts/gulim.ttc'\n",
    "font_name = font_manager.FontProperties(fname=font_fname).get_name()\n",
    "rc('font', family=font_name)\n",
    "plt.figure(figsize=(20, 10))\n",
    "nltk.Text(tokens_1).plot(100)"
   ]
  },
  {
   "cell_type": "code",
   "execution_count": 14,
   "id": "03a5c6a1-7298-4f59-a077-a666aa14e8cf",
   "metadata": {},
   "outputs": [
    {
     "data": {
      "text/plain": [
       "['좋다/Adjective',\n",
       " '있다/Adjective',\n",
       " '비엔나/Noun',\n",
       " '연락처/Noun',\n",
       " '이벤트/Noun',\n",
       " '간편하다/Adjective']"
      ]
     },
     "execution_count": 14,
     "metadata": {},
     "output_type": "execute_result"
    }
   ],
   "source": [
    "selected_words = [f for f in common_word_sort[0:2]] + [f for f in rating_1_word_sort[0:2]] + [f for f in rating_5_word_sort[0:2]]\n",
    "selected_words"
   ]
  },
  {
   "cell_type": "code",
   "execution_count": null,
   "id": "ac8a2908-b00a-472c-a373-fbaf4d2f1fa3",
   "metadata": {},
   "outputs": [],
   "source": [
    "selected_words = [f for f in common_word_sort[0:2000]] + [f for f in rating_1_word_sort[0:2000]] + [f for f in rating_5_word_sort[0:2000]]\n",
    "\n",
    "def term_frequency(doc,length):\n",
    "    result = []\n",
    "    for word in selected_words:\n",
    "        if(count < 2000):\n",
    "            result.append(norm_common(doc.count(word)))\n",
    "        if(2000 <= count < 4000):\n",
    "            result.append(norm_rating_1(doc.count(word)))\n",
    "        if(4000 <= count < 6000):\n",
    "            result.append(norm_rating_5(doc.count(word)))\n",
    "        count += 1\n",
    "    return result\n",
    "\n",
    "X = [term_frequency(d,length) for d, _,length in review_token]\n",
    "y = [d for _, d,_ in review_token]\n",
    "print(y[1:100])\n",
    "X_train, X_test, y_train, y_test = train_test_split(\n",
    "    X, y, test_size=0.3, shuffle=True, random_state=1004)\n",
    "\n",
    "x_train = np.asarray(X_train).astype('float32')\n",
    "x_test = np.asarray(X_test).astype('float32')\n",
    "\n",
    "y_train = np.asarray(y_train).astype('float32')\n",
    "y_test = np.asarray(y_test).astype('float32')"
   ]
  },
  {
   "cell_type": "code",
   "execution_count": 10,
   "id": "8b4ec7ee-a6ca-4df2-a79f-e918b7866744",
   "metadata": {},
   "outputs": [
    {
     "name": "stdout",
     "output_type": "stream",
     "text": [
      "Epoch 1/10\n",
      "53/53 [==============================] - 1s 15ms/step - loss: -148.5916 - binary_accuracy: 0.2250\n",
      "Epoch 2/10\n",
      "53/53 [==============================] - 1s 17ms/step - loss: -871.5273 - binary_accuracy: 0.2250\n",
      "Epoch 3/10\n",
      "53/53 [==============================] - 1s 16ms/step - loss: -2389.5950 - binary_accuracy: 0.2250\n",
      "Epoch 4/10\n",
      "53/53 [==============================] - 1s 16ms/step - loss: -4931.9067 - binary_accuracy: 0.2250\n",
      "Epoch 5/10\n",
      "53/53 [==============================] - 1s 16ms/step - loss: -8734.3467 - binary_accuracy: 0.2250\n",
      "Epoch 6/10\n",
      "53/53 [==============================] - 1s 18ms/step - loss: -14010.2822 - binary_accuracy: 0.2250\n",
      "Epoch 7/10\n",
      "53/53 [==============================] - 1s 18ms/step - loss: -20984.8223 - binary_accuracy: 0.2250 0s - loss: -18194.1914\n",
      "Epoch 8/10\n",
      "53/53 [==============================] - 1s 19ms/step - loss: -29900.5156 - binary_accuracy: 0.2250\n",
      "Epoch 9/10\n",
      "53/53 [==============================] - 1s 17ms/step - loss: -40950.7930 - binary_accuracy: 0.2250\n",
      "Epoch 10/10\n",
      "53/53 [==============================] - 1s 17ms/step - loss: -54376.9961 - binary_accuracy: 0.2250\n",
      "362/362 [==============================] - 0s 1ms/step - loss: -62450.6250 - binary_accuracy: 0.2207\n",
      "[-62450.625, 0.22071526944637299]\n",
      "WARNING:tensorflow:From C:\\Users\\tedle\\anaconda3\\envs\\reviewProject\\lib\\site-packages\\tensorflow\\python\\training\\tracking\\tracking.py:111: Model.state_updates (from tensorflow.python.keras.engine.training) is deprecated and will be removed in a future version.\n",
      "Instructions for updating:\n",
      "This property should not be used in TensorFlow 2.0, as updates are applied automatically.\n",
      "WARNING:tensorflow:From C:\\Users\\tedle\\anaconda3\\envs\\reviewProject\\lib\\site-packages\\tensorflow\\python\\training\\tracking\\tracking.py:111: Layer.updates (from tensorflow.python.keras.engine.base_layer) is deprecated and will be removed in a future version.\n",
      "Instructions for updating:\n",
      "This property should not be used in TensorFlow 2.0, as updates are applied automatically.\n",
      "INFO:tensorflow:Assets written to: saved_model/first_model\\assets\n"
     ]
    }
   ],
   "source": [
    "model = models.Sequential()\n",
    "model.add(layers.Dense(64, activation='relu', input_shape=(6000,)))\n",
    "# model.add(layers.MaxPooling1D(\n",
    "#     pool_size=2, strides=1, padding=\"valid\", data_format=\"channels_last\"))\n",
    "# model.add(layers.Dropout(0.3))\n",
    "# model.add(layers.Conv1D(32,8,activation='relu'))\n",
    "# model.add(layers.LSTM(128))\n",
    "model.add(layers.Dense(64, activation='relu'))\n",
    "model.add(layers.Dense(1, activation='sigmoid'))\n",
    "\n",
    "model.compile(optimizer=optimizers.RMSprop(lr=0.001),\n",
    "              loss=losses.binary_crossentropy,\n",
    "              metrics=[metrics.binary_accuracy])\n",
    "\n",
    "model.fit(x_train, y_train, epochs=10, batch_size=512)\n",
    "results = model.evaluate(x_test, y_test)\n",
    "print(results)\n",
    "model.save('saved_model/first_model')"
   ]
  },
  {
   "cell_type": "code",
   "execution_count": null,
   "id": "a20b36c8-6ac9-4af2-92b9-d5df8c1906f6",
   "metadata": {},
   "outputs": [],
   "source": [
    "X[0]"
   ]
  },
  {
   "cell_type": "code",
   "execution_count": null,
   "id": "8dce28f0-0e66-4d2a-ad46-ed783accbcd4",
   "metadata": {},
   "outputs": [],
   "source": []
  }
 ],
 "metadata": {
  "kernelspec": {
   "display_name": "Review Project",
   "language": "python",
   "name": "reviewproject"
  },
  "language_info": {
   "codemirror_mode": {
    "name": "ipython",
    "version": 3
   },
   "file_extension": ".py",
   "mimetype": "text/x-python",
   "name": "python",
   "nbconvert_exporter": "python",
   "pygments_lexer": "ipython3",
   "version": "3.8.3"
  }
 },
 "nbformat": 4,
 "nbformat_minor": 5
}
