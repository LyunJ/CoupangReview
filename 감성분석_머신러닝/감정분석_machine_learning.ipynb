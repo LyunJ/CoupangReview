{
 "cells": [
  {
   "cell_type": "code",
   "execution_count": 11,
   "source": [
    "from sklearn.model_selection import train_test_split\r\n",
    "from tensorflow.keras import metrics\r\n",
    "from tensorflow.keras import losses\r\n",
    "from tensorflow.keras import optimizers\r\n",
    "from tensorflow.keras import layers\r\n",
    "from tensorflow.keras import models\r\n",
    "import numpy as np\r\n",
    "from matplotlib import font_manager, rc\r\n",
    "import matplotlib.pyplot as plt\r\n",
    "import os\r\n",
    "import json\r\n",
    "from konlpy.tag import Okt\r\n",
    "import pymysql.cursors\r\n",
    "import pandas as pd\r\n",
    "import re"
   ],
   "outputs": [],
   "metadata": {}
  },
  {
   "cell_type": "code",
   "execution_count": 12,
   "source": [
    "conn = pymysql.connect(host='localhost',\r\n",
    "                       user='lyunj',\r\n",
    "                       password='Dldbswo77@',\r\n",
    "                       db='coupang_review',  # coupang_review 스키마 생성 필요\r\n",
    "                       charset='utf8',\r\n",
    "                       cursorclass=pymysql.cursors.DictCursor)\r\n",
    "\r\n",
    "try:\r\n",
    "    with conn.cursor() as curs:\r\n",
    "        sql = 'select rating,review_content, review_len from csv_save where (rating =1 or rating=5) and review_len <> 0'\r\n",
    "        curs.execute(sql)\r\n",
    "        result = curs.fetchall()\r\n",
    "        df = pd.DataFrame(result)\r\n",
    "finally:\r\n",
    "    conn.close()"
   ],
   "outputs": [],
   "metadata": {}
  },
  {
   "cell_type": "code",
   "execution_count": 13,
   "source": [
    "okt = Okt()"
   ],
   "outputs": [],
   "metadata": {}
  },
  {
   "cell_type": "code",
   "execution_count": 14,
   "source": [
    "def tokenize(review):\r\n",
    "    return ['/'.join(t) for t in okt.pos(review, norm=True, stem=True)]"
   ],
   "outputs": [],
   "metadata": {}
  },
  {
   "cell_type": "code",
   "execution_count": 15,
   "source": [
    "reviews = []\r\n",
    "print(df.loc[1:5])\r\n",
    "for i in df.index:\r\n",
    "    if i % 100 == 0:\r\n",
    "        print('진행개수 : ', i)\r\n",
    "    row = df._get_value(i, 'review_content')\r\n",
    "    row = re.sub('\\n', '', row)\r\n",
    "    row = re.sub('\\u200b', '', row)\r\n",
    "    row = re.sub('\\xa0', '', row)\r\n",
    "    row = re.sub('([a-zA-Z])', '', row)\r\n",
    "    row = re.sub('[ㄱ-ㅎㅏ-ㅣ]+', '', row)\r\n",
    "    row = re.sub(\r\n",
    "        '[-=+,#/\\?:^$.@*\\\"※~&%ㆍ!』\\\\‘|\\(\\)\\[\\]\\<\\>`\\'…》]', '', row)\r\n",
    "    reviews.append([tokenize(row), str(df._get_value(i, 'rating')),str(df._get_value(i,'review_len'))])\r\n",
    "\r\n",
    "with open('review_token.json', 'w', encoding='utf-8') as make_file:\r\n",
    "    json.dump(reviews, make_file, ensure_ascii=False, indent='\\t')"
   ],
   "outputs": [
    {
     "output_type": "stream",
     "name": "stdout",
     "text": [
      "   rating                                     review_content  review_len\n",
      "1       1  날마다 자전거를 타기에 요즘 햇볕에 노출된 팔부분이 많이 탓기에 토시를 구입했는데 ...         234\n",
      "2       1  탄력이 없어서 죽죽 내려옵니다.\\n\\n가격은 비싸고 k2 이름값을 못하네요.\\n길이...         201\n",
      "3       1  다 좋은데 질이 참 ...\\n플라스틱 모서리에 살짝 걸려서 올하나가 풀리더만 사진처...         100\n",
      "4       1             마감 처리가 잘 안되어 한번 세탁하니 올이 심하게 풀려서 못쓰겠습니다          38\n",
      "5       1  1회착용 보푸라기일어남 \\n원플원인데 \\n1회착용 폐기 ㅋㅋㅋ\\n만원이니까\\n한번쓰...          87\n",
      "진행개수 :  0\n",
      "진행개수 :  100\n",
      "진행개수 :  200\n",
      "진행개수 :  300\n",
      "진행개수 :  400\n",
      "진행개수 :  500\n"
     ]
    }
   ],
   "metadata": {}
  },
  {
   "cell_type": "code",
   "execution_count": null,
   "source": [
    "import nltk\r\n",
    "\r\n",
    "with open('review_token.json', encoding='utf-8') as f:\r\n",
    "    review_token = json.load(f)\r\n",
    "\r\n",
    "tokens = [t for d in review_token for t in d[0] if ((\r\n",
    "    t.split('/')[1] == 'Noun') or (t.split('/')[1] == 'Adjective'))]\r\n",
    "\r\n",
    "text = nltk.Text(tokens, name='NMSC')\r\n",
    "\r\n",
    "print(len(set(text.tokens)))"
   ],
   "outputs": [
    {
     "output_type": "stream",
     "name": "stdout",
     "text": [
      "35951\n"
     ]
    }
   ],
   "metadata": {}
  },
  {
   "cell_type": "code",
   "execution_count": null,
   "source": [
    "tokens_1 = [t for d in review_token for t in d[0] if (((\r\n",
    "    t.split('/')[1] == 'Noun') or\r\n",
    "    (t.split('/')[1] == 'Adjective')) and d[1] == '1')]\r\n",
    "\r\n",
    "text_1 = nltk.Text(tokens_1, name='NMSC')\r\n",
    "\r\n",
    "rating_1 = text_1.vocab().most_common(1000)\r\n",
    "\r\n",
    "tokens_5 = [t for d in review_token for t in d[0] if (((\r\n",
    "    t.split('/')[1] == 'Noun') or\r\n",
    "    (t.split('/')[1] == 'Adjective')) and d[1] == '5')]\r\n",
    "text_5 = nltk.Text(tokens_5, name='NMSC')\r\n",
    "\r\n",
    "rating_5 = text_5.vocab().most_common(1000)\r\n",
    "\r\n",
    "rating_1_word = [x[0] for x in rating_1]\r\n",
    "rating_5_word = [x[0] for x in rating_5]\r\n",
    "\r\n",
    "common_word = [x for x in rating_1_word if x in rating_5_word]\r\n",
    "\r\n",
    "rating_1_word_not_common = [x for x in rating_1_word if x not in common_word]\r\n",
    "rating_5_word_not_common = [x for x in rating_5_word if x not in common_word]\r\n",
    "\r\n",
    "# tokens_1_word = [x for x in tokens_1 if x not in common_word]\r\n",
    "# tokens_5_word = [x for x in tokens_5 if x not in common_word]"
   ],
   "outputs": [],
   "metadata": {}
  },
  {
   "cell_type": "code",
   "execution_count": null,
   "source": [
    "print(len(common_word))\r\n",
    "print(len(rating_1_word_not_common))\r\n",
    "print(len(rating_5_word_not_common))"
   ],
   "outputs": [
    {
     "output_type": "stream",
     "name": "stdout",
     "text": [
      "701\n",
      "299\n",
      "299\n"
     ]
    }
   ],
   "metadata": {}
  },
  {
   "cell_type": "code",
   "execution_count": null,
   "source": [
    "text_count = text.vocab()\r\n",
    "text_count"
   ],
   "outputs": [
    {
     "output_type": "execute_result",
     "data": {
      "text/plain": [
       "FreqDist({'좋다/Adjective': 56895, '있다/Adjective': 42258, '같다/Adjective': 29433, '구매/Noun': 24847, '사용/Noun': 22295, '없다/Adjective': 21499, '것/Noun': 21437, '제품/Noun': 19955, '때/Noun': 18630, '가격/Noun': 17679, ...})"
      ]
     },
     "metadata": {},
     "execution_count": 11
    }
   ],
   "metadata": {}
  },
  {
   "cell_type": "code",
   "execution_count": null,
   "source": [
    "# common_token = [int(text_count[x]) for x in common_word]\r\n",
    "# rating_1_token = [int(text_count[x]) for x in rating_1_word_not_common]\r\n",
    "# rating_5_token = [int(text_count[x]) for x in rating_5_word_not_common]"
   ],
   "outputs": [],
   "metadata": {}
  },
  {
   "cell_type": "code",
   "execution_count": null,
   "source": [
    "# common_max = max(common_token)\r\n",
    "# common_min = min(common_token)\r\n",
    "# rating_1_max = max(rating_1_token)\r\n",
    "# rating_1_min = min(rating_1_token)\r\n",
    "# rating_5_max = max(rating_5_token)\r\n",
    "# rating_5_min = min(rating_5_token)\r\n",
    "# print(common_max)\r\n",
    "# print(common_min)\r\n",
    "# print(rating_1_max)\r\n",
    "# print(rating_1_min)\r\n",
    "# print(rating_5_max)\r\n",
    "# print(rating_5_min)"
   ],
   "outputs": [
    {
     "output_type": "stream",
     "name": "stdout",
     "text": [
      "53885\n",
      "3128\n",
      "3576\n",
      "879\n",
      "7264\n",
      "2401\n"
     ]
    }
   ],
   "metadata": {}
  },
  {
   "cell_type": "code",
   "execution_count": null,
   "source": [
    "common_word_sort = [x for x in text_count if x in common_word]\r\n",
    "rating_1_word_sort = [x for x in text_count if x in rating_1_word_not_common]\r\n",
    "rating_5_word_sort = [x for x in text_count if x in rating_5_word_not_common]"
   ],
   "outputs": [],
   "metadata": {}
  },
  {
   "cell_type": "code",
   "execution_count": null,
   "source": [
    "font_fname = 'c:/windows/fonts/gulim.ttc'\r\n",
    "font_name = font_manager.FontProperties(fname=font_fname).get_name()\r\n",
    "rc('font', family=font_name)\r\n",
    "plt.figure(figsize=(20, 10))\r\n",
    "nltk.Text(tokens_1).plot(100)"
   ],
   "outputs": [
    {
     "output_type": "display_data",
     "data": {
      "text/plain": [
       "<Figure size 1440x720 with 1 Axes>"
      ],
      "image/png": "[encoded data removed]"
     },
     "metadata": {
      "needs_background": "light"
     }
    }
   ],
   "metadata": {}
  },
  {
   "cell_type": "code",
   "execution_count": null,
   "source": [
    "com_ma = 0\r\n",
    "com_mi = 1000000000\r\n",
    "for f in common_word_sort[0:650]:\r\n",
    "    for doc,_,_ in review_token:\r\n",
    "        co = doc.count(f)\r\n",
    "        if co > com_ma:\r\n",
    "            com_ma = co\r\n",
    "        if co < com_mi:\r\n",
    "            com_mi = co\r\n",
    "\r\n",
    "one_ma = 0\r\n",
    "one_mi = 1000000000\r\n",
    "for f in rating_1_word_sort[0:300]:\r\n",
    "    for doc,_,_ in review_token:\r\n",
    "        co = doc.count(f)\r\n",
    "        if co > one_ma:\r\n",
    "            one_ma = co\r\n",
    "        if co < one_mi:\r\n",
    "            one_mi = co\r\n",
    "\r\n",
    "five_ma = 0\r\n",
    "five_mi = 1000000000\r\n",
    "for f in rating_5_word_sort[0:300]:\r\n",
    "    for doc,_,_ in review_token:\r\n",
    "        co = doc.count(f)\r\n",
    "        if co > five_ma:\r\n",
    "            five_ma = co\r\n",
    "        if co < five_mi:\r\n",
    "            five_mi = co"
   ],
   "outputs": [],
   "metadata": {}
  },
  {
   "cell_type": "code",
   "execution_count": null,
   "source": [
    "def norm_common(x):\r\n",
    "    return (x - com_mi) / (com_ma - com_mi)\r\n",
    "def norm_rating_1(x):\r\n",
    "    return (x - one_mi) / (one_ma - one_mi)\r\n",
    "def norm_rating_5(x):\r\n",
    "    return (x - five_mi) / (five_ma - five_mi)"
   ],
   "outputs": [],
   "metadata": {}
  },
  {
   "cell_type": "code",
   "execution_count": null,
   "source": [
    "selected_words = [f for f in common_word_sort[0:690]] + [f for f in rating_1_word_sort[0:290]] + [f for f in rating_5_word_sort[0:290]]"
   ],
   "outputs": [],
   "metadata": {}
  },
  {
   "cell_type": "code",
   "execution_count": null,
   "source": [
    "# selected_words = [f[0] for f in text.vocab().most_common(1250)]"
   ],
   "outputs": [],
   "metadata": {}
  },
  {
   "cell_type": "code",
   "execution_count": null,
   "source": [
    "def term_frequency(doc,length):\r\n",
    "    result = []\r\n",
    "    count = 0\r\n",
    "    for word in selected_words:\r\n",
    "        if(count < 690):\r\n",
    "            result.append(norm_common(doc.count(word)))\r\n",
    "        if(690 <= count < 980):\r\n",
    "            result.append(norm_rating_1(doc.count(word)))\r\n",
    "        if(980 <= count < 1270):\r\n",
    "            result.append(norm_rating_5(doc.count(word)))\r\n",
    "        count += 1\r\n",
    "    return result\r\n",
    "#     return [doc.count(word) for word in selected_words]\r\n",
    "\r\n",
    "X = [term_frequency(d,length) for d, _,length in review_token]\r\n",
    "y = ['1' if d == '1' else '0' for _, d,_ in review_token]\r\n",
    "\r\n",
    "\r\n",
    "X_train, X_test, y_train, y_test = train_test_split(\r\n",
    "    X, y, test_size=0.3, shuffle=True, random_state=1004)\r\n",
    "\r\n",
    "x_train = np.asarray(X_train).astype('float32')\r\n",
    "x_test = np.asarray(X_test).astype('float32')\r\n",
    "\r\n",
    "y_train = np.asarray(y_train).astype('float32')\r\n",
    "y_test = np.asarray(y_test).astype('float32')"
   ],
   "outputs": [],
   "metadata": {}
  },
  {
   "cell_type": "code",
   "execution_count": null,
   "source": [
    "model = models.Sequential()\r\n",
    "model.add(layers.Dense(64, activation='relu', input_shape=(1270,)))\r\n",
    "# model.add(layers.MaxPooling1D(\r\n",
    "#     pool_size=2, strides=1, padding=\"valid\", data_format=\"channels_last\"))\r\n",
    "# model.add(layers.Dropout(0.3))\r\n",
    "# model.add(layers.Conv1D(32,8,activation='relu'))\r\n",
    "# model.add(layers.LSTM(128))\r\n",
    "model.add(layers.Dense(64, activation='relu'))\r\n",
    "model.add(layers.Dense(2, activation='softmax'))\r\n",
    "model.add(layers.Dense(1, activation='sigmoid'))\r\n",
    "\r\n",
    "model.compile(optimizer=optimizers.RMSprop(lr=0.001),\r\n",
    "              loss=losses.binary_crossentropy,\r\n",
    "              metrics=[metrics.binary_accuracy])\r\n",
    "\r\n",
    "model.fit(x_train, y_train, epochs=10, batch_size=8)\r\n",
    "results = model.evaluate(x_test, y_test)\r\n",
    "print(results)\r\n",
    "model.save('../saved_model/second_model')"
   ],
   "outputs": [
    {
     "output_type": "stream",
     "name": "stdout",
     "text": [
      "Epoch 1/10\n",
      "7063/7063 [==============================] - 19s 3ms/step - loss: 0.3097 - binary_accuracy: 0.8852\n",
      "Epoch 2/10\n",
      "7063/7063 [==============================] - 20s 3ms/step - loss: 0.2288 - binary_accuracy: 0.9148\n",
      "Epoch 3/10\n",
      "7063/7063 [==============================] - 18s 3ms/step - loss: 0.2194 - binary_accuracy: 0.9175\n",
      "Epoch 4/10\n",
      "7063/7063 [==============================] - 18s 3ms/step - loss: 0.2160 - binary_accuracy: 0.9198\n",
      "Epoch 5/10\n",
      "7063/7063 [==============================] - 19s 3ms/step - loss: 0.2127 - binary_accuracy: 0.9201\n",
      "Epoch 6/10\n",
      "7063/7063 [==============================] - 18s 3ms/step - loss: 0.2099 - binary_accuracy: 0.9207\n",
      "Epoch 7/10\n",
      "7063/7063 [==============================] - 20s 3ms/step - loss: 0.2089 - binary_accuracy: 0.9212\n",
      "Epoch 8/10\n",
      "7063/7063 [==============================] - 20s 3ms/step - loss: 0.2066 - binary_accuracy: 0.9225\n",
      "Epoch 9/10\n",
      "7063/7063 [==============================] - 18s 3ms/step - loss: 0.2073 - binary_accuracy: 0.9224\n",
      "Epoch 10/10\n",
      "7063/7063 [==============================] - 19s 3ms/step - loss: 0.2069 - binary_accuracy: 0.9222\n",
      "757/757 [==============================] - 1s 1ms/step - loss: 0.2158 - binary_accuracy: 0.9177\n",
      "[0.2157999724149704, 0.917692244052887]\n",
      "WARNING:tensorflow:From C:\\Users\\tedle\\anaconda3\\envs\\reviewProject\\lib\\site-packages\\tensorflow\\python\\training\\tracking\\tracking.py:111: Model.state_updates (from tensorflow.python.keras.engine.training) is deprecated and will be removed in a future version.\n",
      "Instructions for updating:\n",
      "This property should not be used in TensorFlow 2.0, as updates are applied automatically.\n",
      "WARNING:tensorflow:From C:\\Users\\tedle\\anaconda3\\envs\\reviewProject\\lib\\site-packages\\tensorflow\\python\\training\\tracking\\tracking.py:111: Layer.updates (from tensorflow.python.keras.engine.base_layer) is deprecated and will be removed in a future version.\n",
      "Instructions for updating:\n",
      "This property should not be used in TensorFlow 2.0, as updates are applied automatically.\n",
      "INFO:tensorflow:Assets written to: ../saved_model/second_model\\assets\n"
     ]
    }
   ],
   "metadata": {}
  },
  {
   "cell_type": "code",
   "execution_count": null,
   "source": [
    "selected_words[0]"
   ],
   "outputs": [
    {
     "output_type": "execute_result",
     "data": {
      "text/plain": [
       "'좋다/Adjective'"
      ]
     },
     "metadata": {},
     "execution_count": 57
    }
   ],
   "metadata": {}
  },
  {
   "cell_type": "code",
   "execution_count": null,
   "source": [
    "norm_common(review_token[0][0].count('좋다/Adjective'))"
   ],
   "outputs": [
    {
     "output_type": "execute_result",
     "data": {
      "text/plain": [
       "-0.0668871465200104"
      ]
     },
     "metadata": {},
     "execution_count": 56
    }
   ],
   "metadata": {}
  },
  {
   "cell_type": "code",
   "execution_count": null,
   "source": [
    "def predict_pos_neg(review):\r\n",
    "    token = tokenize(review)\r\n",
    "    tf = term_frequency(token,0)\r\n",
    "    data = np.expand_dims(np.asarray(tf).astype('float32'), axis=0)\r\n",
    "    score = float(model.predict(data))\r\n",
    "    if(score > 0.5):\r\n",
    "#         print(\"[{}]는 {:.2f}% 확률로 부정 리뷰이지 않을까 추측해봅니다.^^\\n\".format(review, score * 100))\r\n",
    "        return (1 - score) * 100\r\n",
    "    else:\r\n",
    "#         print(\"[{}]는 {:.2f}% 확률로 긍정 리뷰이지 않을까 추측해봅니다.^^;\\n\".format(review, (1 - score) * 100))\r\n",
    "        return (1 - score) * 100"
   ],
   "outputs": [],
   "metadata": {}
  },
  {
   "cell_type": "code",
   "execution_count": null,
   "source": [
    "predict_pos_neg(\"\"\"첫날 사진입니다.. 많이 실망스럽네요\r\n",
    "저번에 시켜먹을땐 이거보단 덜했는데 이번엔 영 아니네요\r\n",
    "베스트 후기 보면 초록빛 바나나도 주던데 전 그게 차라리 낫다고 생각합니다. \r\n",
    "바나나 만져보면 9개중에 5개의 끝부분이 말랑말랑하고\r\n",
    "검게 시들었습니다.. 칼로 도려내야겠네요 \r\n",
    "이게 첫날인데 몇일 지나면 절반은 못먹고 도려낼듯\r\n",
    "\r\n",
    "+ 확인해보니 5개가 아니고 6개가 말랑말랑하네요ㅋ\"\"\")"
   ],
   "outputs": [
    {
     "output_type": "execute_result",
     "data": {
      "text/plain": [
       "2.1796464920043945"
      ]
     },
     "metadata": {},
     "execution_count": 21
    }
   ],
   "metadata": {}
  },
  {
   "cell_type": "code",
   "execution_count": null,
   "source": [
    "# conn = pymysql.connect(host='localhost',\r\n",
    "#                        user='lyunj',\r\n",
    "#                        password='Dldbswo77@',\r\n",
    "#                        db='coupang_review',  # coupang_review 스키마 생성 필요\r\n",
    "#                        charset='utf8',\r\n",
    "#                        cursorclass=pymysql.cursors.DictCursor)\r\n",
    "\r\n",
    "# try:\r\n",
    "#     with conn.cursor() as curs:\r\n",
    "#         sql = \"\"\"select a.*,b.review_content\r\n",
    "# from review_analyzing_data a left outer join review_content b on (\r\n",
    "# a.product_review_index = b.product_review_index and\r\n",
    "# a.product_index = b.product_index and\r\n",
    "# a.category_index = b.category_index\r\n",
    "# );\"\"\"\r\n",
    "#         curs.execute(sql)\r\n",
    "#         result = curs.fetchall()\r\n",
    "#         df = pd.DataFrame(result)\r\n",
    "# finally:\r\n",
    "#     conn.close()"
   ],
   "outputs": [],
   "metadata": {}
  },
  {
   "cell_type": "code",
   "execution_count": null,
   "source": [
    "# for i in range(151321):\r\n",
    "#     review_score = predict_pos_neg(df['review_content'][i])\r\n",
    "#     conn = pymysql.connect(host='localhost',\r\n",
    "#                        user='lyunj',\r\n",
    "#                        password='Dldbswo77@',\r\n",
    "#                        db='coupang_review',  # coupang_review 스키마 생성 필요\r\n",
    "#                        charset='utf8',\r\n",
    "#                        cursorclass=pymysql.cursors.DictCursor)\r\n",
    "#     try:\r\n",
    "#         with conn.cursor() as curs:\r\n",
    "#             sql = f\"update review_analyzing_data set review_score = {review_score} where product_review_index = {df['product_review_index'][i]} and product_index = {df['product_index'][i]} and category_index = {df['category_index'][i]}\"\r\n",
    "#             curs.execute(sql)\r\n",
    "#             conn.commit()\r\n",
    "#     finally:\r\n",
    "#         conn.close()\r\n",
    "#     if i % 1000 == 0:\r\n",
    "#         print(i)"
   ],
   "outputs": [
    {
     "output_type": "stream",
     "name": "stdout",
     "text": [
      "0\n",
      "1000\n",
      "2000\n",
      "3000\n",
      "4000\n",
      "5000\n",
      "6000\n",
      "7000\n",
      "8000\n",
      "9000\n",
      "10000\n",
      "11000\n",
      "12000\n",
      "13000\n",
      "14000\n",
      "15000\n",
      "16000\n",
      "17000\n",
      "18000\n",
      "19000\n",
      "20000\n",
      "21000\n",
      "22000\n",
      "23000\n",
      "24000\n",
      "25000\n",
      "26000\n",
      "27000\n",
      "28000\n",
      "29000\n",
      "30000\n",
      "31000\n",
      "32000\n",
      "33000\n",
      "34000\n",
      "35000\n",
      "36000\n",
      "37000\n",
      "38000\n",
      "39000\n",
      "40000\n",
      "41000\n",
      "42000\n",
      "43000\n",
      "44000\n",
      "45000\n",
      "46000\n",
      "47000\n",
      "48000\n",
      "49000\n",
      "50000\n",
      "51000\n",
      "52000\n",
      "53000\n",
      "54000\n",
      "55000\n",
      "56000\n",
      "57000\n",
      "58000\n",
      "59000\n",
      "60000\n",
      "61000\n",
      "62000\n",
      "63000\n",
      "64000\n",
      "65000\n",
      "66000\n",
      "67000\n",
      "68000\n",
      "69000\n",
      "70000\n",
      "71000\n",
      "72000\n",
      "73000\n",
      "74000\n",
      "75000\n",
      "76000\n",
      "77000\n",
      "78000\n",
      "79000\n",
      "80000\n",
      "81000\n",
      "82000\n",
      "83000\n",
      "84000\n",
      "85000\n",
      "86000\n",
      "87000\n",
      "88000\n",
      "89000\n",
      "90000\n",
      "91000\n",
      "92000\n",
      "93000\n",
      "94000\n",
      "95000\n",
      "96000\n",
      "97000\n",
      "98000\n",
      "99000\n",
      "100000\n",
      "101000\n",
      "102000\n",
      "103000\n",
      "104000\n",
      "105000\n",
      "106000\n",
      "107000\n",
      "108000\n",
      "109000\n",
      "110000\n",
      "111000\n",
      "112000\n",
      "113000\n",
      "114000\n",
      "115000\n",
      "116000\n",
      "117000\n",
      "118000\n",
      "119000\n",
      "120000\n",
      "121000\n",
      "122000\n",
      "123000\n",
      "124000\n",
      "125000\n",
      "126000\n",
      "127000\n",
      "128000\n",
      "129000\n",
      "130000\n",
      "131000\n",
      "132000\n",
      "133000\n",
      "134000\n",
      "135000\n",
      "136000\n",
      "137000\n",
      "138000\n",
      "139000\n",
      "140000\n",
      "141000\n",
      "142000\n",
      "143000\n",
      "144000\n",
      "145000\n",
      "146000\n",
      "147000\n",
      "148000\n",
      "149000\n",
      "150000\n",
      "151000\n"
     ]
    }
   ],
   "metadata": {}
  }
 ],
 "metadata": {
  "kernelspec": {
   "display_name": "Review Project",
   "language": "python",
   "name": "reviewproject"
  },
  "language_info": {
   "codemirror_mode": {
    "name": "ipython",
    "version": 3
   },
   "file_extension": ".py",
   "mimetype": "text/x-python",
   "name": "python",
   "nbconvert_exporter": "python",
   "pygments_lexer": "ipython3",
   "version": "3.8.3"
  }
 },
 "nbformat": 4,
 "nbformat_minor": 5
}