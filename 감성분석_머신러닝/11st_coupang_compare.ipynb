{
 "cells": [
  {
   "cell_type": "code",
   "execution_count": 1,
   "source": [
    "import numpy as np\r\n",
    "from matplotlib import font_manager, rc\r\n",
    "import matplotlib.pyplot as plt\r\n",
    "import pandas as pd\r\n",
    "import re"
   ],
   "outputs": [],
   "metadata": {}
  },
  {
   "cell_type": "code",
   "execution_count": 2,
   "source": [
    "eleven = pd.read_csv('./11st_maybe_spam_22.csv')\r\n",
    "coupang = pd.read_csv('./maybe_spam_22.csv')"
   ],
   "outputs": [],
   "metadata": {}
  },
  {
   "cell_type": "code",
   "execution_count": 3,
   "source": [
    "eleven_df = pd.DataFrame(eleven)\r\n",
    "coupang_df = pd.DataFrame(coupang)"
   ],
   "outputs": [],
   "metadata": {}
  },
  {
   "cell_type": "code",
   "execution_count": 4,
   "source": [
    "coupang_df_5 = coupang_df[coupang_df['review_rating'] == 5]"
   ],
   "outputs": [],
   "metadata": {}
  },
  {
   "cell_type": "code",
   "execution_count": 9,
   "source": [],
   "outputs": [
    {
     "output_type": "execute_result",
     "data": {
      "text/plain": [
       "Empty DataFrame\n",
       "Columns: [Unnamed: 0, product_review_index, product_index, category_index, review_date, review_rating, newline_count, review_len, special_char_count, manufacturer_count, product_count, review_score, c1, review_writer_name, b.product_review_index, b.product_index, b.category_index, review_content]\n",
       "Index: []"
      ],
      "text/html": [
       "<div>\n",
       "<style scoped>\n",
       "    .dataframe tbody tr th:only-of-type {\n",
       "        vertical-align: middle;\n",
       "    }\n",
       "\n",
       "    .dataframe tbody tr th {\n",
       "        vertical-align: top;\n",
       "    }\n",
       "\n",
       "    .dataframe thead th {\n",
       "        text-align: right;\n",
       "    }\n",
       "</style>\n",
       "<table border=\"1\" class=\"dataframe\">\n",
       "  <thead>\n",
       "    <tr style=\"text-align: right;\">\n",
       "      <th></th>\n",
       "      <th>Unnamed: 0</th>\n",
       "      <th>product_review_index</th>\n",
       "      <th>product_index</th>\n",
       "      <th>category_index</th>\n",
       "      <th>review_date</th>\n",
       "      <th>review_rating</th>\n",
       "      <th>newline_count</th>\n",
       "      <th>review_len</th>\n",
       "      <th>special_char_count</th>\n",
       "      <th>manufacturer_count</th>\n",
       "      <th>product_count</th>\n",
       "      <th>review_score</th>\n",
       "      <th>c1</th>\n",
       "      <th>review_writer_name</th>\n",
       "      <th>b.product_review_index</th>\n",
       "      <th>b.product_index</th>\n",
       "      <th>b.category_index</th>\n",
       "      <th>review_content</th>\n",
       "    </tr>\n",
       "  </thead>\n",
       "  <tbody>\n",
       "  </tbody>\n",
       "</table>\n",
       "</div>"
      ]
     },
     "metadata": {},
     "execution_count": 9
    }
   ],
   "metadata": {}
  },
  {
   "cell_type": "code",
   "execution_count": 7,
   "source": [
    "plt.bar(['eleven','coupang'],[(eleven_df['special_char_count']**2+eleven_df['product_count']**2+eleven_df['manufacturer_count']**2).mean(),\r\n",
    "(coupang_df_5['special_char_count']**2+coupang_df_5['product_count']**2+coupang_df_5['manufacturer_count']**2).mean()])\r\n",
    "plt.xlabel('shopping mall')\r\n",
    "plt.ylabel('c1_mean')\r\n",
    "plt.grid()\r\n",
    "plt.show()"
   ],
   "outputs": [
    {
     "output_type": "display_data",
     "data": {
      "text/plain": [
       "<Figure size 432x288 with 1 Axes>"
      ],
      "image/png": "[encoded data removed]"
     },
     "metadata": {
      "needs_background": "light"
     }
    }
   ],
   "metadata": {}
  },
  {
   "cell_type": "code",
   "execution_count": 11,
   "source": [
    "plt.scatter(coupang_df_5.index*0.026,coupang_df_5['c1'],color='r')\r\n",
    "plt.scatter(eleven_df.index,eleven_df['special_char_count']**2+eleven_df['product_count']**2+eleven_df['manufacturer_count']**2,color='b')\r\n",
    "plt.xlabel(\"index\", fontsize=13)\r\n",
    "plt.ylabel(\"c1\", fontsize=13)\r\n",
    "plt.grid()\r\n",
    "plt.show()"
   ],
   "outputs": [
    {
     "output_type": "display_data",
     "data": {
      "text/plain": [
       "<Figure size 432x288 with 1 Axes>"
      ],
      "image/png": "[encoded data removed]"
     },
     "metadata": {
      "needs_background": "light"
     }
    }
   ],
   "metadata": {}
  }
 ],
 "metadata": {
  "orig_nbformat": 4,
  "language_info": {
   "name": "python"
  }
 },
 "nbformat": 4,
 "nbformat_minor": 2
}